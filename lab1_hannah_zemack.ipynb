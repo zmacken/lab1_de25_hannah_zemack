{
 "cells": [
  {
   "cell_type": "markdown",
   "id": "97299a45",
   "metadata": {},
   "source": [
    "# Lab1"
   ]
  },
  {
   "cell_type": "markdown",
   "id": "0094c5c1",
   "metadata": {},
   "source": [
    "Task 1\n",
    "\n",
    "read the text file called dna_raw.txt\n",
    "- each sequene is composed of two lines of data: the first line beginning with > sign is the\n",
    "sequence ID, while the following line is the actual sequence\n",
    "- the actual sequence is not case-sensitive, which means that lower and upper case letters are\n",
    "treated the same"
   ]
  },
  {
   "cell_type": "markdown",
   "id": "29b2341b",
   "metadata": {},
   "source": [
    "- for each sequence, create a dictionary to count the number of each DNA letter in that sequence"
   ]
  },
  {
   "cell_type": "markdown",
   "id": "6d15bced",
   "metadata": {},
   "source": [
    "- for each sequence, graph the frequency of DNA letters for each sequence"
   ]
  },
  {
   "cell_type": "markdown",
   "id": "a0056e29",
   "metadata": {},
   "source": [
    "Task 2\n",
    "\n",
    "- there can be raw DNA data files with different number of sequences. Based on your solution code\n",
    "above, create a function that is able to take in new data files in similar format as dna_raw.txt with\n",
    "different number of sequences, and produce the same results above\n",
    "\n",
    "- you have received also another DNA codes that is more complicated. The file is called\n",
    "dna_raw_complicated.txt. In this file, each DNA sequence can be composed of multiple lines of data in\n",
    "the text file. In this case, are you able to solve the task in the same way as before? If not, update your\n",
    "code to solve the same task with the new data"
   ]
  },
  {
   "cell_type": "code",
   "execution_count": null,
   "id": "b9add55b",
   "metadata": {},
   "outputs": [
    {
     "ename": "AttributeError",
     "evalue": "'str' object has no attribute 'items'",
     "output_type": "error",
     "traceback": [
      "\u001b[31m---------------------------------------------------------------------------\u001b[39m",
      "\u001b[31mAttributeError\u001b[39m                            Traceback (most recent call last)",
      "\u001b[36mCell\u001b[39m\u001b[36m \u001b[39m\u001b[32mIn[102]\u001b[39m\u001b[32m, line 58\u001b[39m\n\u001b[32m     55\u001b[39m \u001b[38;5;28;01mfor\u001b[39;00m i \u001b[38;5;129;01min\u001b[39;00m \u001b[38;5;28mrange\u001b[39m(\u001b[38;5;28mlen\u001b[39m(x)):\u001b[38;5;66;03m# lägga till siffror över stapeln\u001b[39;00m\n\u001b[32m     56\u001b[39m     plt.text(i, y[i], \u001b[38;5;28mstr\u001b[39m(y[i]), ha=\u001b[33m'\u001b[39m\u001b[33mcenter\u001b[39m\u001b[33m'\u001b[39m)\n\u001b[32m---> \u001b[39m\u001b[32m58\u001b[39m \u001b[43mplt\u001b[49m\u001b[43m.\u001b[49m\u001b[43mtitle\u001b[49m\u001b[43m(\u001b[49m\u001b[43msequence\u001b[49m\u001b[43m,\u001b[49m\u001b[43m \u001b[49m\u001b[43mfile_name\u001b[49m\u001b[43m)\u001b[49m\u001b[38;5;66;03m#bestämma titel\u001b[39;00m\n\u001b[32m     59\u001b[39m plt.xlabel(\u001b[33m'\u001b[39m\u001b[33mletters\u001b[39m\u001b[33m'\u001b[39m)\u001b[38;5;66;03m#titel för x\u001b[39;00m\n\u001b[32m     60\u001b[39m plt.ylabel(\u001b[33m'\u001b[39m\u001b[33mcount\u001b[39m\u001b[33m'\u001b[39m)\u001b[38;5;66;03m#tiel för y\u001b[39;00m\n",
      "\u001b[36mFile \u001b[39m\u001b[32m~/Desktop/DataEngineer25_GITHUB/lab1_de25_hannah_zemack/.venv/lib/python3.12/site-packages/matplotlib/pyplot.py:4394\u001b[39m, in \u001b[36mtitle\u001b[39m\u001b[34m(label, fontdict, loc, pad, y, **kwargs)\u001b[39m\n\u001b[32m   4384\u001b[39m \u001b[38;5;129m@_copy_docstring_and_deprecators\u001b[39m(Axes.set_title)\n\u001b[32m   4385\u001b[39m \u001b[38;5;28;01mdef\u001b[39;00m\u001b[38;5;250m \u001b[39m\u001b[34mtitle\u001b[39m(\n\u001b[32m   4386\u001b[39m     label: \u001b[38;5;28mstr\u001b[39m,\n\u001b[32m   (...)\u001b[39m\u001b[32m   4392\u001b[39m     **kwargs,\n\u001b[32m   4393\u001b[39m ) -> Text:\n\u001b[32m-> \u001b[39m\u001b[32m4394\u001b[39m     \u001b[38;5;28;01mreturn\u001b[39;00m \u001b[43mgca\u001b[49m\u001b[43m(\u001b[49m\u001b[43m)\u001b[49m\u001b[43m.\u001b[49m\u001b[43mset_title\u001b[49m\u001b[43m(\u001b[49m\u001b[43mlabel\u001b[49m\u001b[43m,\u001b[49m\u001b[43m \u001b[49m\u001b[43mfontdict\u001b[49m\u001b[43m=\u001b[49m\u001b[43mfontdict\u001b[49m\u001b[43m,\u001b[49m\u001b[43m \u001b[49m\u001b[43mloc\u001b[49m\u001b[43m=\u001b[49m\u001b[43mloc\u001b[49m\u001b[43m,\u001b[49m\u001b[43m \u001b[49m\u001b[43mpad\u001b[49m\u001b[43m=\u001b[49m\u001b[43mpad\u001b[49m\u001b[43m,\u001b[49m\u001b[43m \u001b[49m\u001b[43my\u001b[49m\u001b[43m=\u001b[49m\u001b[43my\u001b[49m\u001b[43m,\u001b[49m\u001b[43m \u001b[49m\u001b[43m*\u001b[49m\u001b[43m*\u001b[49m\u001b[43mkwargs\u001b[49m\u001b[43m)\u001b[49m\n",
      "\u001b[36mFile \u001b[39m\u001b[32m~/Desktop/DataEngineer25_GITHUB/lab1_de25_hannah_zemack/.venv/lib/python3.12/site-packages/matplotlib/axes/_axes.py:200\u001b[39m, in \u001b[36mAxes.set_title\u001b[39m\u001b[34m(self, label, fontdict, loc, pad, y, **kwargs)\u001b[39m\n\u001b[32m    198\u001b[39m title.update(default)\n\u001b[32m    199\u001b[39m \u001b[38;5;28;01mif\u001b[39;00m fontdict \u001b[38;5;129;01mis\u001b[39;00m \u001b[38;5;129;01mnot\u001b[39;00m \u001b[38;5;28;01mNone\u001b[39;00m:\n\u001b[32m--> \u001b[39m\u001b[32m200\u001b[39m     \u001b[43mtitle\u001b[49m\u001b[43m.\u001b[49m\u001b[43mupdate\u001b[49m\u001b[43m(\u001b[49m\u001b[43mfontdict\u001b[49m\u001b[43m)\u001b[49m\n\u001b[32m    201\u001b[39m title._internal_update(kwargs)\n\u001b[32m    202\u001b[39m \u001b[38;5;28;01mreturn\u001b[39;00m title\n",
      "\u001b[36mFile \u001b[39m\u001b[32m~/Desktop/DataEngineer25_GITHUB/lab1_de25_hannah_zemack/.venv/lib/python3.12/site-packages/matplotlib/text.py:197\u001b[39m, in \u001b[36mText.update\u001b[39m\u001b[34m(self, kwargs)\u001b[39m\n\u001b[32m    194\u001b[39m \u001b[38;5;28;01mdef\u001b[39;00m\u001b[38;5;250m \u001b[39m\u001b[34mupdate\u001b[39m(\u001b[38;5;28mself\u001b[39m, kwargs):\n\u001b[32m    195\u001b[39m     \u001b[38;5;66;03m# docstring inherited\u001b[39;00m\n\u001b[32m    196\u001b[39m     ret = []\n\u001b[32m--> \u001b[39m\u001b[32m197\u001b[39m     kwargs = \u001b[43mcbook\u001b[49m\u001b[43m.\u001b[49m\u001b[43mnormalize_kwargs\u001b[49m\u001b[43m(\u001b[49m\u001b[43mkwargs\u001b[49m\u001b[43m,\u001b[49m\u001b[43m \u001b[49m\u001b[43mText\u001b[49m\u001b[43m)\u001b[49m\n\u001b[32m    198\u001b[39m     sentinel = \u001b[38;5;28mobject\u001b[39m()  \u001b[38;5;66;03m# bbox can be None, so use another sentinel.\u001b[39;00m\n\u001b[32m    199\u001b[39m     \u001b[38;5;66;03m# Update fontproperties first, as it has lowest priority.\u001b[39;00m\n",
      "\u001b[36mFile \u001b[39m\u001b[32m~/Desktop/DataEngineer25_GITHUB/lab1_de25_hannah_zemack/.venv/lib/python3.12/site-packages/matplotlib/cbook.py:1797\u001b[39m, in \u001b[36mnormalize_kwargs\u001b[39m\u001b[34m(kw, alias_mapping)\u001b[39m\n\u001b[32m   1794\u001b[39m canonical_to_seen = {}\n\u001b[32m   1795\u001b[39m ret = {}  \u001b[38;5;66;03m# output dictionary\u001b[39;00m\n\u001b[32m-> \u001b[39m\u001b[32m1797\u001b[39m \u001b[38;5;28;01mfor\u001b[39;00m k, v \u001b[38;5;129;01min\u001b[39;00m \u001b[43mkw\u001b[49m\u001b[43m.\u001b[49m\u001b[43mitems\u001b[49m():\n\u001b[32m   1798\u001b[39m     canonical = to_canonical.get(k, k)\n\u001b[32m   1799\u001b[39m     \u001b[38;5;28;01mif\u001b[39;00m canonical \u001b[38;5;129;01min\u001b[39;00m canonical_to_seen:\n",
      "\u001b[31mAttributeError\u001b[39m: 'str' object has no attribute 'items'"
     ]
    },
    {
     "data": {
      "image/png": "[encoded data removed]",
      "text/plain": [
       "<Figure size 640x480 with 1 Axes>"
      ]
     },
     "metadata": {},
     "output_type": "display_data"
    }
   ],
   "source": [
    "#this code works for both task 1 and 2\n",
    "\n",
    "import matplotlib.pyplot as plt \n",
    "import re\n",
    "\n",
    "#1. Bygga funktion för att hämta data som går att återanvända\n",
    "#2. Allt till stora bokstäver\n",
    "\n",
    "def dna_files(file): #skapa funktionen dna_files som tar emot parameter file\n",
    "    try: #error handling ifall filen inte finns\n",
    "        with open(file, 'r') as f: \n",
    "            lines = f.readlines() #läs alla rader av filen\n",
    "        return [line.upper().rstrip() for line in lines] #Stora bokstäver, ta bort \\n för alla rader\n",
    "    except FileNotFoundError:\n",
    "        print('file not found')\n",
    "        return [] #så man vet direkt om filen inte finns\n",
    " \n",
    "file_name = 'dna_raw_complicated.txt' #här bestämmer man vilken fil den ska hämta\n",
    "dna = dna_files(file_name) #starta funktionen\n",
    "\n",
    "#4. Skapa dictionary\n",
    "\n",
    "dictionary = {}\n",
    "#sequence_counter = 0 #försöker få den att fatta att den ska börja bygga nya grapher om det är olika filer\n",
    "#5. lägg in fil i dictionary\n",
    "\n",
    "#Räkna antalet DNA letters i den sekvensen\n",
    "for part in dna:\n",
    "    if part[0] == '>':\n",
    "        sequence_name = part[1:] #hitta sekvensnamn, ta alla från 1 -> slutet i de rader som börjar med >\n",
    "        dictionary[sequence_name] = {\n",
    "            'A':0, \n",
    "            'T':0,\n",
    "            'C':0, \n",
    "            'G':0\n",
    "            } #nolla för den här nya sekvensen \n",
    "    else:\n",
    "        for letter in part:\n",
    "            if letter == 'A' or letter == 'T' or letter == 'C' or letter == 'G':#se till att alla bkstäver är rätt\n",
    "                dictionary[sequence_name][letter] += 1 #lägga till i nested dictionary\n",
    "\n",
    "\n",
    "#6. Rita ut graf för varje frekvens\n",
    "\n",
    "#Måste först plocka ut alla värden fast fortfarande ha de kopplade till rätt sekvens\n",
    "\n",
    "for sequence in dictionary: #loopa igenom alla sekvenser\n",
    "    #x = dictionary[sequence].keys() #hämta vilken bokstav det gäller\n",
    "    #y = dictionary[sequence].values() #hämta hur många antal av den bokstaven\n",
    "    x = list(dictionary[sequence].keys())     # göra om till lista så att kunna ha siffror över funkar\n",
    "    y = list(dictionary[sequence].values())   # göra om till lista så att kunna ha siffror över funkar\n",
    "\n",
    "    plt.bar(x, y) #berätta vilka värden som ska användas\n",
    "\n",
    "    for i in range(len(x)):# lägga till siffror över stapeln\n",
    "        plt.text(i, y[i], str(y[i]), ha='center')\n",
    "\n",
    "    plt.title(sequence)#bestämma titel\n",
    "    plt.xlabel('letters')#titel för x\n",
    "    plt.ylabel('count')#tiel för y\n",
    "    plt.savefig(f'graphs_{sequence}_{file_name}.png')#skapa en ny png fil för att kunna spara \n",
    "    plt.clf()\n"
   ]
  }
 ],
 "metadata": {
  "kernelspec": {
   "display_name": "lab1_de25_hannah_zemack",
   "language": "python",
   "name": "python3"
  },
  "language_info": {
   "codemirror_mode": {
    "name": "ipython",
    "version": 3
   },
   "file_extension": ".py",
   "mimetype": "text/x-python",
   "name": "python",
   "nbconvert_exporter": "python",
   "pygments_lexer": "ipython3",
   "version": "3.12.10"
  }
 },
 "nbformat": 4,
 "nbformat_minor": 5
}
