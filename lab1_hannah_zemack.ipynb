{
 "cells": [
  {
   "cell_type": "markdown",
   "id": "97299a45",
   "metadata": {},
   "source": [
    "# Lab1"
   ]
  },
  {
   "cell_type": "markdown",
   "id": "0094c5c1",
   "metadata": {},
   "source": [
    "read the text file called dna_raw.txt\n",
    "- each sequene is composed of two lines of data: the first line beginning with > sign is the\n",
    "sequence ID, while the following line is the actual sequence\n",
    "- the actual sequence is not case-sensitive, which means that lower and upper case letters are\n",
    "treated the same"
   ]
  },
  {
   "cell_type": "code",
   "execution_count": null,
   "id": "b9add55b",
   "metadata": {},
   "outputs": [],
   "source": []
  },
  {
   "cell_type": "markdown",
   "id": "29b2341b",
   "metadata": {},
   "source": [
    "- for each sequence, create a dictionary to count the number of each DNA letter in that sequence"
   ]
  },
  {
   "cell_type": "code",
   "execution_count": null,
   "id": "404ece2f",
   "metadata": {},
   "outputs": [],
   "source": []
  },
  {
   "cell_type": "markdown",
   "id": "6d15bced",
   "metadata": {},
   "source": [
    "- for each sequence, graph the frequency of DNA letters for each sequence"
   ]
  },
  {
   "cell_type": "code",
   "execution_count": null,
   "id": "7dbd22bb",
   "metadata": {},
   "outputs": [],
   "source": []
  }
 ],
 "metadata": {
  "kernelspec": {
   "display_name": "lab1_de25_hannah_zemack",
   "language": "python",
   "name": "python3"
  },
  "language_info": {
   "name": "python",
   "version": "3.12.10"
  }
 },
 "nbformat": 4,
 "nbformat_minor": 5
}
