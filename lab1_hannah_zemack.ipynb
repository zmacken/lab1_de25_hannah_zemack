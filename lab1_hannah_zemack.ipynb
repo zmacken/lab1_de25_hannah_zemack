{
 "cells": [
  {
   "cell_type": "markdown",
   "id": "97299a45",
   "metadata": {},
   "source": [
    "# Lab1"
   ]
  },
  {
   "cell_type": "markdown",
   "id": "0094c5c1",
   "metadata": {},
   "source": [
    "Task 1\n",
    "\n",
    "read the text file called dna_raw.txt\n",
    "- each sequene is composed of two lines of data: the first line beginning with > sign is the\n",
    "sequence ID, while the following line is the actual sequence\n",
    "- the actual sequence is not case-sensitive, which means that lower and upper case letters are\n",
    "treated the same"
   ]
  },
  {
   "cell_type": "markdown",
   "id": "29b2341b",
   "metadata": {},
   "source": [
    "- for each sequence, create a dictionary to count the number of each DNA letter in that sequence"
   ]
  },
  {
   "cell_type": "markdown",
   "id": "6d15bced",
   "metadata": {},
   "source": [
    "- for each sequence, graph the frequency of DNA letters for each sequence"
   ]
  },
  {
   "cell_type": "markdown",
   "id": "a0056e29",
   "metadata": {},
   "source": [
    "Task 2\n",
    "\n",
    "- there can be raw DNA data files with different number of sequences. Based on your solution code\n",
    "above, create a function that is able to take in new data files in similar format as dna_raw.txt with\n",
    "different number of sequences, and produce the same results above\n",
    "\n",
    "- you have received also another DNA codes that is more complicated. The file is called\n",
    "dna_raw_complicated.txt. In this file, each DNA sequence can be composed of multiple lines of data in\n",
    "the text file. In this case, are you able to solve the task in the same way as before? If not, update your\n",
    "code to solve the same task with the new data"
   ]
  },
  {
   "cell_type": "code",
   "execution_count": null,
   "id": "b9add55b",
   "metadata": {},
   "outputs": [
    {
     "name": "stdout",
     "output_type": "stream",
     "text": [
      "{'SEQ1': {'A': 17, 'T': 7, 'C': 8, 'G': 2}, 'SEQ2': {'A': 3, 'T': 7, 'C': 4, 'G': 10}, 'SEQ3': {'A': 36, 'T': 19, 'C': 34, 'G': 21}, 'SEQ4': {'A': 17, 'T': 12, 'C': 15, 'G': 20}}\n",
      "['>SEQ1', 'CGTAACCAATAAAAAAACAAGCTTAACCTAATTC', '>SEQ2', 'AGCTTAGTTTGGATCTGGCCGGGG', '>SEQ3', 'GCGGATTTACTCCCCCCAAAAANNAGGGGAGAGCCCAGATAAATGGAGTCTGTGCGTCCACA', 'GAATTCGCACCA', 'AATAAAACCTCACCCAT', 'AGAGCCCAGAATTTACTCCCC', '>SEQ4', 'GCGGATTTACTCAGGGGAGAGCCCAGGGATAAATGGAGTCTGTGCGTCCACA', 'GAATTCGCACCA']\n"
     ]
    }
   ],
   "source": [
    "import matplotlib as plt \n",
    "import re\n",
    "\n",
    "#1. Bygga funktion för att hämta data som går att återanvända\n",
    "#2. Allt till stora bokstäver\n",
    "def dna_files(file): #skapa funktionen dna_files som tar emot parameter file\n",
    "    try: #error handling ifall filn inte finns\n",
    "        with open(file, 'r') as f: \n",
    "            lines = f.readlines() #läs alla rader av filen\n",
    "        return [line.upper().rstrip() for line in lines] #Stora bokstäver, ta bort \\n för alla rader\n",
    "    except FileNotFoundError:\n",
    "        return 'file not found' \n",
    "\n",
    "dna = dna_files('dna_raw_complicated.txt') #här bestämmer man vilken fil den ska hämta\n",
    "\n",
    "#4. Skapa dictionary\n",
    "dictionary = {}\n",
    "\n",
    "#5. lägg in fil i dictionary\n",
    "\n",
    "#Räkna antalet DNA letters i den sekvensen\n",
    "for part in dna:\n",
    "    if part[0] == '>':\n",
    "        sequence_name = part[1:] #hitta sekvensnamn, ta alla från 1 -> slutet i de rader som börjar med >\n",
    "        dictionary[sequence_name] = {\n",
    "            'A':0, \n",
    "            'T':0,\n",
    "            'C':0, \n",
    "            'G':0\n",
    "            } #nolla för den här nya sekvensen \n",
    "    else:\n",
    "        for letter in part:\n",
    "            if letter == 'A' or letter == 'T' or letter == 'C' or letter == 'G':#se till att alla bkstäver är rätt\n",
    "                dictionary[sequence_name][letter] += 1 #lägga till i nested dictionary\n",
    "\n",
    "print(dictionary)\n",
    "print(dna)\n",
    "\n",
    "#6. Rita ut graf för varje frekvens\n",
    "#Måste först plocka ut alla värden fast fortfarande ha de kopplade till rätt sekvens\n",
    "\n",
    "\n",
    "\n"
   ]
  }
 ],
 "metadata": {
  "kernelspec": {
   "display_name": "lab1_de25_hannah_zemack",
   "language": "python",
   "name": "python3"
  },
  "language_info": {
   "codemirror_mode": {
    "name": "ipython",
    "version": 3
   },
   "file_extension": ".py",
   "mimetype": "text/x-python",
   "name": "python",
   "nbconvert_exporter": "python",
   "pygments_lexer": "ipython3",
   "version": "3.12.10"
  }
 },
 "nbformat": 4,
 "nbformat_minor": 5
}
