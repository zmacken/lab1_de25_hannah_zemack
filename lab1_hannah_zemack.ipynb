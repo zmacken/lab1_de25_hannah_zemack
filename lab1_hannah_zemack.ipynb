{
 "cells": [
  {
   "cell_type": "markdown",
   "id": "0094c5c1",
   "metadata": {},
   "source": [
    "read the text file called dna_raw.txt\n",
    "- each sequene is composed of two lines of data: the first line beginning with > sign is the\n",
    "sequence ID, while the following line is the actual sequence\n",
    "- the actual sequence is not case-sensitive, which means that lower and upper case letters are\n",
    "treated the same"
   ]
  },
  {
   "cell_type": "markdown",
   "id": "29b2341b",
   "metadata": {},
   "source": []
  }
 ],
 "metadata": {
  "kernelspec": {
   "display_name": "lab1_de25_hannah_zemack",
   "language": "python",
   "name": "python3"
  },
  "language_info": {
   "name": "python",
   "version": "3.12.10"
  }
 },
 "nbformat": 4,
 "nbformat_minor": 5
}
