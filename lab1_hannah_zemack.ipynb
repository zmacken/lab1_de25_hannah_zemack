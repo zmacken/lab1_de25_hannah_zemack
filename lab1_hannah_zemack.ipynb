{
 "cells": [
  {
   "cell_type": "markdown",
   "id": "97299a45",
   "metadata": {},
   "source": [
    "# Lab1"
   ]
  },
  {
   "cell_type": "markdown",
   "id": "0094c5c1",
   "metadata": {},
   "source": [
    "Task 1\n",
    "\n",
    "read the text file called dna_raw.txt\n",
    "- each sequene is composed of two lines of data: the first line beginning with > sign is the\n",
    "sequence ID, while the following line is the actual sequence\n",
    "- the actual sequence is not case-sensitive, which means that lower and upper case letters are\n",
    "treated the same"
   ]
  },
  {
   "cell_type": "markdown",
   "id": "29b2341b",
   "metadata": {},
   "source": [
    "- for each sequence, create a dictionary to count the number of each DNA letter in that sequence"
   ]
  },
  {
   "cell_type": "markdown",
   "id": "6d15bced",
   "metadata": {},
   "source": [
    "- for each sequence, graph the frequency of DNA letters for each sequence"
   ]
  },
  {
   "cell_type": "markdown",
   "id": "a0056e29",
   "metadata": {},
   "source": [
    "Task 2\n",
    "\n",
    "- there can be raw DNA data files with different number of sequences. Based on your solution code\n",
    "above, create a function that is able to take in new data files in similar format as dna_raw.txt with\n",
    "different number of sequences, and produce the same results above\n",
    "\n",
    "- you have received also another DNA codes that is more complicated. The file is called\n",
    "dna_raw_complicated.txt. In this file, each DNA sequence can be composed of multiple lines of data in\n",
    "the text file. In this case, are you able to solve the task in the same way as before? If not, update your\n",
    "code to solve the same task with the new data"
   ]
  },
  {
   "cell_type": "code",
   "execution_count": null,
   "id": "b9add55b",
   "metadata": {},
   "outputs": [
    {
     "data": {
      "text/plain": [
       "<Figure size 640x480 with 0 Axes>"
      ]
     },
     "metadata": {},
     "output_type": "display_data"
    }
   ],
   "source": [
    "#this code works for both task 1 and 2\n",
    "\n",
    "import matplotlib.pyplot as plt \n",
    "import re\n",
    "\n",
    "#1. Bygga funktion för att hämta data som går att återanvända\n",
    "#2. Allt till stora bokstäver\n",
    "\n",
    "def load_dna_file(file): #skapa funktionen dna_files som tar emot parameter file\n",
    "    try: #error handling ifall filen inte finns\n",
    "        with open(file, 'r') as f: \n",
    "            lines = f.readlines() #läs alla rader av filen\n",
    "        return [line.upper().rstrip() for line in lines] #Stora bokstäver, ta bort \\n för alla rader\n",
    "    except FileNotFoundError:\n",
    "        print('file not found')\n",
    "        return [] #så man vet direkt om filen inte finns\n",
    " \n",
    "file_name = 'dna_raw_complicated.txt' #här bestämmer man vilken fil den ska hämta\n",
    "dna = load_dna_file(file_name) #starta funktionen\n",
    "\n",
    "#4. Skapa dictionary\n",
    "\n",
    "dictionary = {}\n",
    "#sequence_counter = 0 #försöker få den att fatta att den ska börja bygga nya grapher om det är olika filer\n",
    "#5. lägg in fil i dictionary\n",
    "\n",
    "#Räkna antalet DNA letters i den sekvensen\n",
    "for part in dna:\n",
    "    if part[0] == '>':\n",
    "        sequence_name = part[1:] #hitta sekvensnamn, ta alla från 1 -> slutet i de rader som börjar med >\n",
    "        dictionary[sequence_name] = {\n",
    "            'A':0, \n",
    "            'T':0,\n",
    "            'C':0, \n",
    "            'G':0\n",
    "            } #nolla för den här nya sekvensen \n",
    "    else:\n",
    "        for letter in part:\n",
    "            if letter == 'A' or letter == 'T' or letter == 'C' or letter == 'G':#se till att alla bkstäver är rätt\n",
    "                dictionary[sequence_name][letter] += 1 #lägga till i nested dictionary\n",
    "\n",
    "\n",
    "#6. Rita ut graf för varje frekvens\n",
    "\n",
    "#Måste först plocka ut alla värden fast fortfarande ha de kopplade till rätt sekvens\n",
    "\n",
    "for sequence in dictionary: #loopa igenom alla sekvenser\n",
    "    #x = dictionary[sequence].keys() #hämta vilken bokstav det gäller\n",
    "    #y = dictionary[sequence].values() #hämta hur många antal av den bokstaven\n",
    "    x = list(dictionary[sequence].keys())     # göra om till lista så att kunna ha siffror över funkar\n",
    "    y = list(dictionary[sequence].values())   # göra om till lista så att kunna ha siffror över funkar\n",
    "\n",
    "    plt.bar(x, y) #berätta vilka värden som ska användas\n",
    "\n",
    "    for i in range(len(x)):# lägga till siffror över stapeln\n",
    "        plt.text(i, y[i], str(y[i]), ha='center')\n",
    "\n",
    "    plt.title(sequence)#bestämma titel\n",
    "    plt.xlabel('letters')#titel för x\n",
    "    plt.ylabel('count')#tiel för y\n",
    "    plt.savefig(f'graphs_{sequence}_{file_name}.png')#skapa en ny png fil för att kunna spara \n",
    "    plt.clf() #rensa allt för att kunna börja oom på nya grafen.\n"
   ]
  }
 ],
 "metadata": {
  "kernelspec": {
   "display_name": "lab1_de25_hannah_zemack",
   "language": "python",
   "name": "python3"
  },
  "language_info": {
   "codemirror_mode": {
    "name": "ipython",
    "version": 3
   },
   "file_extension": ".py",
   "mimetype": "text/x-python",
   "name": "python",
   "nbconvert_exporter": "python",
   "pygments_lexer": "ipython3",
   "version": "3.12.10"
  }
 },
 "nbformat": 4,
 "nbformat_minor": 5
}
