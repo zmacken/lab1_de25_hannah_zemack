{
 "cells": [
  {
   "cell_type": "markdown",
   "id": "97299a45",
   "metadata": {},
   "source": [
    "# Lab1"
   ]
  },
  {
   "cell_type": "markdown",
   "id": "0094c5c1",
   "metadata": {},
   "source": [
    "read the text file called dna_raw.txt\n",
    "- each sequene is composed of two lines of data: the first line beginning with > sign is the\n",
    "sequence ID, while the following line is the actual sequence\n",
    "- the actual sequence is not case-sensitive, which means that lower and upper case letters are\n",
    "treated the same"
   ]
  },
  {
   "cell_type": "markdown",
   "id": "29b2341b",
   "metadata": {},
   "source": [
    "- for each sequence, create a dictionary to count the number of each DNA letter in that sequence"
   ]
  },
  {
   "cell_type": "markdown",
   "id": "6d15bced",
   "metadata": {},
   "source": [
    "- for each sequence, graph the frequency of DNA letters for each sequence"
   ]
  },
  {
   "cell_type": "code",
   "execution_count": null,
   "id": "b9add55b",
   "metadata": {},
   "outputs": [
    {
     "name": "stdout",
     "output_type": "stream",
     "text": [
      "['>seq1\\n', 'cGTAaccaataaaaaaacaagcttaacctaattc\\n', '>seq2\\n', 'agcttagTTTGGatctggccgggg\\n', '>seq3\\n', 'gcggatttactcCCCCCAAAAANNaggggagagcccagataaatggagtctgtgcgtccaca\\n', 'gaattcgcacca\\n', 'AATAAAACCTCACCCAT\\n', 'agagcccagaatttactcCCC\\n', '>seq4\\n', 'gcggatttactcaggggagagcccagGGataaatggagtctgtgcgtccaca\\n', 'gaattcgcacca']\n",
      "\n",
      "\n",
      "{'SEQ1': {'A': 17, 'T': 7, 'C': 8, 'G': 2}, 'SEQ2': {'A': 3, 'T': 7, 'C': 4, 'G': 10}, 'SEQ3': {'A': 36, 'T': 19, 'C': 34, 'G': 21}, 'SEQ4': {'A': 17, 'T': 12, 'C': 15, 'G': 20}}\n",
      "['>SEQ1', 'CGTAACCAATAAAAAAACAAGCTTAACCTAATTC', '>SEQ2', 'AGCTTAGTTTGGATCTGGCCGGGG', '>SEQ3', 'GCGGATTTACTCCCCCCAAAAANNAGGGGAGAGCCCAGATAAATGGAGTCTGTGCGTCCACA', 'GAATTCGCACCA', 'AATAAAACCTCACCCAT', 'AGAGCCCAGAATTTACTCCCC', '>SEQ4', 'GCGGATTTACTCAGGGGAGAGCCCAGGGATAAATGGAGTCTGTGCGTCCACA', 'GAATTCGCACCA']\n"
     ]
    }
   ],
   "source": [
    "import matplotlib as plt \n",
    "\n",
    "#1. Bygga funktion för att hämta data som går att återanvända\n",
    "#2. Allt till stora bokstäver\n",
    "def dna_files(filepath):\n",
    "    try:\n",
    "        with open(filepath, 'r') as f:\n",
    "            lines = f.readlines() #läs alla rader av filen\n",
    "        return [line.upper().rstrip() for line in lines] #Stora bokstäver, ta bort \\n för alla rader\n",
    "    except FileNotFoundError:\n",
    "        return 'file not found' #ifall filen inte finns\n",
    "\n",
    "dna = dna_files('dna_raw_complicated.txt') #här bestämmer man vilken fil den ska hämta\n",
    "\n",
    "#4. Skapa dictionary\n",
    "dictionary = {}\n",
    "#5. lägg in fil i dictionary\n",
    "#Räkna antalet DNA letters i den sekvensen\n",
    "for part in dna:\n",
    "    if part[0] == '>':\n",
    "        sequence_name = part[1:] #hitta sekvensnamn\n",
    "        dictionary[sequence_name] = {'A':0, 'T':0, 'C':0, 'G':0} #nolla för den här nya sekvensen\n",
    "    else:\n",
    "        for letter in part:\n",
    "            if letter == 'A' or letter == 'T' or letter == 'C' or letter == 'G':#se till att alla bkstäver är rätt\n",
    "                dictionary[sequence_name][letter] += 1 #lägga till i nestd dictionary\n",
    "\n",
    "print(dictionary)\n",
    "print(dna)\n",
    "\n",
    "\n",
    "#Rita ut graf för varje frekvens\n",
    "\n",
    "\n",
    "\n",
    "#(3)Ta bort ny rads tecken där nästa rad inte börjar med >"
   ]
  }
 ],
 "metadata": {
  "kernelspec": {
   "display_name": "lab1_de25_hannah_zemack",
   "language": "python",
   "name": "python3"
  },
  "language_info": {
   "codemirror_mode": {
    "name": "ipython",
    "version": 3
   },
   "file_extension": ".py",
   "mimetype": "text/x-python",
   "name": "python",
   "nbconvert_exporter": "python",
   "pygments_lexer": "ipython3",
   "version": "3.12.10"
  }
 },
 "nbformat": 4,
 "nbformat_minor": 5
}
