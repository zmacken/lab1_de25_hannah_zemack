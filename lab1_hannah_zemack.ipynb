{
 "cells": [
  {
   "cell_type": "markdown",
   "id": "97299a45",
   "metadata": {},
   "source": [
    "# Lab1"
   ]
  },
  {
   "cell_type": "markdown",
   "id": "0094c5c1",
   "metadata": {},
   "source": [
    "Task 1\n",
    "\n",
    "read the text file called dna_raw.txt\n",
    "- each sequene is composed of two lines of data: the first line beginning with > sign is the\n",
    "sequence ID, while the following line is the actual sequence\n",
    "- the actual sequence is not case-sensitive, which means that lower and upper case letters are\n",
    "treated the same"
   ]
  },
  {
   "cell_type": "markdown",
   "id": "29b2341b",
   "metadata": {},
   "source": [
    "- for each sequence, create a dictionary to count the number of each DNA letter in that sequence"
   ]
  },
  {
   "cell_type": "markdown",
   "id": "6d15bced",
   "metadata": {},
   "source": [
    "- for each sequence, graph the frequency of DNA letters for each sequence"
   ]
  },
  {
   "cell_type": "markdown",
   "id": "a0056e29",
   "metadata": {},
   "source": [
    "Task 2\n",
    "\n",
    "- there can be raw DNA data files with different number of sequences. Based on your solution code\n",
    "above, create a function that is able to take in new data files in similar format as dna_raw.txt with\n",
    "different number of sequences, and produce the same results above\n",
    "\n",
    "- you have received also another DNA codes that is more complicated. The file is called\n",
    "dna_raw_complicated.txt. In this file, each DNA sequence can be composed of multiple lines of data in\n",
    "the text file. In this case, are you able to solve the task in the same way as before? If not, update your\n",
    "code to solve the same task with the new data"
   ]
  },
  {
   "cell_type": "code",
   "execution_count": null,
   "id": "b9add55b",
   "metadata": {},
   "outputs": [
    {
     "ename": "FileNotFoundError",
     "evalue": "[Errno 2] No such file or directory: 'graphs_SAMPLE1_dna_raw_test.txt.png'",
     "output_type": "error",
     "traceback": [
      "\u001b[31m---------------------------------------------------------------------------\u001b[39m",
      "\u001b[31mFileNotFoundError\u001b[39m                         Traceback (most recent call last)",
      "\u001b[36mCell\u001b[39m\u001b[36m \u001b[39m\u001b[32mIn[10]\u001b[39m\u001b[32m, line 77\u001b[39m\n\u001b[32m     75\u001b[39m     loaded_file = load_dna_file(file_name) \u001b[38;5;66;03m#starta funktionen\u001b[39;00m\n\u001b[32m     76\u001b[39m     sorted_dictionary = sort_to_dictionary(loaded_file)\n\u001b[32m---> \u001b[39m\u001b[32m77\u001b[39m     \u001b[43mbar_chart\u001b[49m\u001b[43m(\u001b[49m\u001b[43msorted_dictionary\u001b[49m\u001b[43m)\u001b[49m\n\u001b[32m     79\u001b[39m \u001b[38;5;28mprint\u001b[39m(\u001b[33m'\u001b[39m\u001b[33mcheck separate files:)\u001b[39m\u001b[33m'\u001b[39m)\n",
      "\u001b[36mCell\u001b[39m\u001b[36m \u001b[39m\u001b[32mIn[10]\u001b[39m\u001b[32m, line 62\u001b[39m, in \u001b[36mbar_chart\u001b[39m\u001b[34m(sequences)\u001b[39m\n\u001b[32m     60\u001b[39m plt.xlabel(\u001b[33m'\u001b[39m\u001b[33mletters\u001b[39m\u001b[33m'\u001b[39m)\u001b[38;5;66;03m#titel för x\u001b[39;00m\n\u001b[32m     61\u001b[39m plt.ylabel(\u001b[33m'\u001b[39m\u001b[33mcount\u001b[39m\u001b[33m'\u001b[39m)\u001b[38;5;66;03m#tiel för y\u001b[39;00m\n\u001b[32m---> \u001b[39m\u001b[32m62\u001b[39m \u001b[43mos\u001b[49m\u001b[43m.\u001b[49m\u001b[43mremove\u001b[49m\u001b[43m(\u001b[49m\u001b[33;43mf\u001b[39;49m\u001b[33;43m'\u001b[39;49m\u001b[33;43mgraphs_\u001b[39;49m\u001b[38;5;132;43;01m{\u001b[39;49;00m\u001b[43msequence\u001b[49m\u001b[38;5;132;43;01m}\u001b[39;49;00m\u001b[33;43m_\u001b[39;49m\u001b[38;5;132;43;01m{\u001b[39;49;00m\u001b[43mfile_name\u001b[49m\u001b[38;5;132;43;01m}\u001b[39;49;00m\u001b[33;43m.png\u001b[39;49m\u001b[33;43m'\u001b[39;49m\u001b[43m)\u001b[49m \u001b[38;5;66;03m#ta bort gamla filer\u001b[39;00m\n\u001b[32m     63\u001b[39m plt.savefig(\u001b[33mf\u001b[39m\u001b[33m'\u001b[39m\u001b[33mgraphs_\u001b[39m\u001b[38;5;132;01m{\u001b[39;00msequence\u001b[38;5;132;01m}\u001b[39;00m\u001b[33m_\u001b[39m\u001b[38;5;132;01m{\u001b[39;00mfile_name\u001b[38;5;132;01m}\u001b[39;00m\u001b[33m.png\u001b[39m\u001b[33m'\u001b[39m)\u001b[38;5;66;03m#skapa en ny png fil för att kunna spara \u001b[39;00m\n\u001b[32m     64\u001b[39m plt.clf()\n",
      "\u001b[31mFileNotFoundError\u001b[39m: [Errno 2] No such file or directory: 'graphs_SAMPLE1_dna_raw_test.txt.png'"
     ]
    },
    {
     "data": {
      "image/png": "[encoded data removed]",
      "text/plain": [
       "<Figure size 640x480 with 1 Axes>"
      ]
     },
     "metadata": {},
     "output_type": "display_data"
    }
   ],
   "source": [
    "#this code works for both task 1 and 2\n",
    "\n",
    "import matplotlib.pyplot as plt #importera matplotlib\n",
    "import os #importera os så kan raera gamla png filer\n",
    "\n",
    "\n",
    "def load_dna_file(file): #skapa funktionen dna_files som tar emot parameter file\n",
    "    #1. Bygga funktion för att hämta data som går att återanvända\n",
    "    #2. Allt till stora bokstäver\n",
    "    try: #error handling ifall filen inte finns\n",
    "        with open(file, 'r') as f: \n",
    "            lines = f.readlines() #läs alla rader av filen\n",
    "        return [line.upper().rstrip() for line in lines] #Stora bokstäver, ta bort \\n för alla rader\n",
    "\n",
    "    except FileNotFoundError:\n",
    "        print('file not found')\n",
    "        return [] #så man vet direkt om filen inte finns\n",
    " \n",
    "\n",
    "def sort_to_dictionary(file_contents):\n",
    "    #4. Skapa dictionary\n",
    "\n",
    "    dictionary = {}\n",
    "    #sequence_counter = 0 #försöker få den att fatta att den ska börja bygga nya grapher om det är olika filer\n",
    "    #5. lägg in fil i dictionary\n",
    "\n",
    "    #Räkna antalet DNA letters i den sekvensen\n",
    "    for part in file_contents:\n",
    "        if part[0] == '>':\n",
    "            sequence_name = part[1:] #hitta sekvensnamn, ta alla från 1 -> slutet i de rader som börjar med >\n",
    "            dictionary[sequence_name] = {\n",
    "                'A':0, \n",
    "                'T':0,\n",
    "                'C':0, \n",
    "                'G':0\n",
    "                } #nolla för den här nya sekvensen \n",
    "        else:\n",
    "            for letter in part:\n",
    "                if letter == 'A' or letter == 'T' or letter == 'C' or letter == 'G':#se till att alla bkstäver är rätt\n",
    "                    dictionary[sequence_name][letter] += 1 #lägga till i nested dictionary\n",
    "    return dictionary\n",
    "\n",
    "\n",
    "def bar_chart(sequences):\n",
    "    #6. Rita ut graf för varje frekvens \n",
    "    #Måste först plocka ut alla värden fast fortfarande ha de kopplade till rätt sekvens\n",
    "\n",
    "    for sequence in sequences: #loopa igenom alla sekvenser\n",
    "        #x = dictionary[sequence].keys() #hämta vilken bokstav det gäller\n",
    "        #y = dictionary[sequence].values() #hämta hur många antal av den bokstaven\n",
    "        x = list(sequences[sequence].keys())     # göra om till lista så att kunna ha siffror över funkar\n",
    "        y = list(sequences[sequence].values())   # göra om till lista så att kunna ha siffror över funkar\n",
    "\n",
    "        plt.bar(x, y) #berätta vilka värden som ska användas\n",
    "\n",
    "        for i in range(len(x)):# lägga till siffror över stapeln\n",
    "            plt.text(i, y[i], str(y[i]), ha='center')\n",
    "\n",
    "        plt.title(sequence)#bestämma titel\n",
    "        plt.xlabel('letters')#titel för x\n",
    "        plt.ylabel('count')#tiel för y\n",
    "\n",
    "        if os.path.exists(f'graphs_{sequence}_{file_name}.png'):\n",
    "            os.remove(f'graphs_{sequence}_{file_name}.png') #ta bort gamla filer\n",
    "\n",
    "        plt.savefig(f'graphs_{sequence}_{file_name}.png')#skapa en ny png fil för att kunna spara \n",
    "        plt.clf() #rensa allt för att kunna börja oom på nya grafen.\n",
    "\n",
    "\n",
    "\n",
    "#köra programmet\n",
    "\n",
    "\n",
    "#files = ['dna_raw.txt', 'dna_raw_complicated.txt'] #lista med textfilerna så båda körs samtidigt\n",
    "files = ['dna_raw_test.txt']\n",
    "\n",
    "for file_name in files:\n",
    "    loaded_file = load_dna_file(file_name) #starta funktionen\n",
    "    sorted_dictionary = sort_to_dictionary(loaded_file)\n",
    "    bar_chart(sorted_dictionary)\n",
    "\n",
    "print('check separate files:)')\n",
    "\n"
   ]
  }
 ],
 "metadata": {
  "kernelspec": {
   "display_name": "lab1_de25_hannah_zemack",
   "language": "python",
   "name": "python3"
  },
  "language_info": {
   "codemirror_mode": {
    "name": "ipython",
    "version": 3
   },
   "file_extension": ".py",
   "mimetype": "text/x-python",
   "name": "python",
   "nbconvert_exporter": "python",
   "pygments_lexer": "ipython3",
   "version": "3.12.10"
  }
 },
 "nbformat": 4,
 "nbformat_minor": 5
}
